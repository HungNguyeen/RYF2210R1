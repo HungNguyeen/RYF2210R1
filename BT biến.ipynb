{
 "cells": [
  {
   "cell_type": "code",
   "execution_count": 6,
   "id": "bb478f7c",
   "metadata": {},
   "outputs": [
    {
     "name": "stdout",
     "output_type": "stream",
     "text": [
      "Nhập nhiệt độ C cần chuyển đổi: 15\n",
      "Độ F sẽ là:  {59.0}\n"
     ]
    }
   ],
   "source": [
    "import math\n",
    "c = float(input(\"Nhập nhiệt độ C cần chuyển đổi: \"))\n",
    "f = c * 1.8 + 32\n",
    "print(f\"Độ F sẽ là: \",{f})"
   ]
  }
 ],
 "metadata": {
  "kernelspec": {
   "display_name": "Python 3 (ipykernel)",
   "language": "python",
   "name": "python3"
  },
  "language_info": {
   "codemirror_mode": {
    "name": "ipython",
    "version": 3
   },
   "file_extension": ".py",
   "mimetype": "text/x-python",
   "name": "python",
   "nbconvert_exporter": "python",
   "pygments_lexer": "ipython3",
   "version": "3.10.8"
  }
 },
 "nbformat": 4,
 "nbformat_minor": 5
}
